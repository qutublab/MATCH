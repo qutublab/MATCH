{
 "cells": [
  {
   "cell_type": "code",
   "execution_count": 12,
   "id": "673268f4-b1c1-4757-bc82-15f392a5fc40",
   "metadata": {},
   "outputs": [],
   "source": [
    "%%capture\n",
    "# comment the previous line if experiencing package issues and want to debug\n",
    "%pip install -r requirements.txt"
   ]
  },
  {
   "cell_type": "markdown",
   "id": "6b71b70a-6489-45e0-8863-1d5a49dd3ec7",
   "metadata": {},
   "source": [
    "# Generative AI for Biomedical Decisions"
   ]
  },
  {
   "cell_type": "code",
   "execution_count": 13,
   "id": "7af4d07c-e4d9-4b8d-a35e-31886b5180d1",
   "metadata": {},
   "outputs": [
    {
     "name": "stdout",
     "output_type": "stream",
     "text": [
      "The dotenv extension is already loaded. To reload it, use:\n",
      "  %reload_ext dotenv\n"
     ]
    }
   ],
   "source": [
    "import os\n",
    "import json\n",
    "import requests\n",
    "\n",
    "from openai import OpenAI\n",
    "\n",
    "%load_ext dotenv\n",
    "%dotenv"
   ]
  },
  {
   "cell_type": "code",
   "execution_count": 14,
   "id": "fea1c23c-6086-4300-90e5-ba6ac49337f5",
   "metadata": {},
   "outputs": [],
   "source": [
    "# Just makes outputs formatted a little better\n",
    "from IPython.display import Markdown, display\n",
    "\n",
    "def printmd(string: str):\n",
    "    display(Markdown(string))"
   ]
  },
  {
   "cell_type": "markdown",
   "id": "cafa2ee4-85fa-4b05-bf01-ccd1e703bdce",
   "metadata": {},
   "source": [
    "## Getting Started: Generate Responses with Open AI"
   ]
  },
  {
   "cell_type": "markdown",
   "id": "5bfb0a47-59aa-4871-aaa8-9d9c808cea86",
   "metadata": {},
   "source": [
    "The `OpenAI` class creates a Python object that you can then use to generate responses from any of their models. For the most part, other models use a similar API where you call class methods when generating outputs. Prior to running this cell, make sure that you have created a `.env` file containing your `OPENAI_API_KEY`."
   ]
  },
  {
   "cell_type": "code",
   "execution_count": 15,
   "id": "bc1af38c-38c2-44a5-917d-678ab9c601d0",
   "metadata": {},
   "outputs": [],
   "source": [
    "client = OpenAI(\n",
    "    # This is the default and can be omitted\n",
    "    api_key=os.environ.get(\"OPENAI_API_KEY\"),\n",
    ")"
   ]
  },
  {
   "cell_type": "markdown",
   "id": "c0634ff4-c85b-4acd-8122-4273da646b96",
   "metadata": {},
   "source": [
    "Responses are generated using the `create()` method. A [full list of parameters can be found here](https://github.com/openai/openai-python/blob/main/api.md#responses). If you are creating an application, look [using streaming respones](https://platform.openai.com/docs/guides/streaming-responses?api-mode=chat)."
   ]
  },
  {
   "cell_type": "code",
   "execution_count": 16,
   "id": "51ea467b-c7b2-4f39-b64a-336d626231ee",
   "metadata": {},
   "outputs": [
    {
     "data": {
      "text/markdown": [
       "Administering CPR (Cardiopulmonary Resuscitation) can save a person's life if they've stopped breathing or their heart has stopped. Here's a step-by-step guide on how to perform adult CPR:\n",
       "\n",
       "**Before you start:**\n",
       "- Ensure the scene is safe.\n",
       "- Check if the person is responsive by gently shaking their shoulder and shouting, \"Are you okay?\"\n",
       "- Call emergency services immediately or ask someone else to do so.\n",
       "- If you're alone and the person is unresponsive, perform CPR for about 2 minutes before calling emergency services.\n",
       "\n",
       "**Steps for adult CPR:**\n",
       "\n",
       "1. **Check for responsiveness and breathing:**\n",
       "   - Gently tap the person and shout, \"Are you okay?\"\n",
       "   - Look for normal breathing (not gasping) for no more than 10 seconds.\n",
       "\n",
       "2. **Call for help:**\n",
       "   - If unresponsive and not breathing normally, call emergency services or have someone do it.\n",
       "   - If possible, get an Automated External Defibrillator (AED).\n",
       "\n",
       "3. **Start chest compressions:**\n",
       "   - Kneel beside the person's chest.\n",
       "   - Place the heel of one hand on the center of the chest (lower half of the breastbone).\n",
       "   - Place your other hand on top, interlocking your fingers.\n",
       "   - Keep your arms straight and shoulders directly over your hands.\n",
       "   - Push hard and fast:\n",
       "     - Compress the chest at least 2 inches (5 cm) deep.\n",
       "     - Use a rate of at least 100 to 120 compressions per minute (like the beat of the song \"Staying Alive\").\n",
       "\n",
       "4. **Deliver rescue breaths (if trained and comfortable):**\n",
       "   - After 30 compressions, give 2 rescue breaths.\n",
       "   - Tilt the person's head back slightly to open the airway.\n",
       "   - Pinch the nose shut, cover their mouth with yours, and blow to make the chest rise.\n",
       "   - Each breath should last about 1 second, and the chest should rise visibly.\n",
       "\n",
       "5. **Continue cycles:**\n",
       "   - Keep performing cycles of 30 compressions and 2 breaths.\n",
       "   - Do not stop unless:\n",
       "     - Someone with more advanced training takes over.\n",
       "     - The person shows signs of life.\n",
       "     - You are too exhausted to continue.\n",
       "     - The scene becomes unsafe.\n",
       "\n",
       "**Using an AED:**\n",
       "- Turn on the AED and follow its voice prompts.\n",
       "- Attach pads to the person's bare chest as indicated.\n",
       "- Ensure no one is touching the person during rhythm analysis and shock delivery.\n",
       "- Follow AED instructions.\n",
       "\n",
       "**Important notes:**\n",
       "- Hands-only CPR (just chest compressions) is recommended if you're not trained or uncomfortable giving rescue breaths.\n",
       "- Early defibrillation greatly improves survival chances.\n",
       "\n",
       "If you're interested in detailed training, consider taking a certified CPR course from organizations like the American Heart Association or Red Cross.\n",
       "\n",
       "**Remember:** Acting quickly and confidently can make a critical difference in saving a life."
      ],
      "text/plain": [
       "<IPython.core.display.Markdown object>"
      ]
     },
     "metadata": {},
     "output_type": "display_data"
    }
   ],
   "source": [
    "user_prompt = \"How do I administer CPR?\"\n",
    "\n",
    "response = client.responses.create(\n",
    "    model=\"gpt-4.1-nano\",\n",
    "    input=user_prompt,\n",
    ")\n",
    "\n",
    "printmd(response.output_text)"
   ]
  },
  {
   "cell_type": "markdown",
   "id": "da47f1de-64a7-4cc4-b2e1-c8faa86dfb9d",
   "metadata": {},
   "source": [
    "You can also get responeses if wish to input an image instead. Take a look at [the OpenAI documentation](https://platform.openai.com/docs/overview) for a full list of all possible use-cases."
   ]
  },
  {
   "cell_type": "code",
   "execution_count": 17,
   "id": "573a9147-8c0f-4d7d-b290-defb143ce897",
   "metadata": {},
   "outputs": [
    {
     "data": {
      "text/markdown": [
       "This image appears to be an anatomical illustration of the human heart and lungs, with detailed labeling and structure. It is likely a historical or scientific diagram used to study or teach about the anatomy of the chest, lungs, and heart."
      ],
      "text/plain": [
       "<IPython.core.display.Markdown object>"
      ]
     },
     "metadata": {},
     "output_type": "display_data"
    }
   ],
   "source": [
    "user_prompt = \"What is this image\"\n",
    "image_url = \"https://upload.wikimedia.org/wikipedia/commons/9/92/EB1911_Heart_-_Thoracic_Viscera.png\"\n",
    "\n",
    "response = client.responses.create(\n",
    "    model=\"gpt-4.1-nano\",\n",
    "    input=[\n",
    "        {\n",
    "            \"role\": \"user\",\n",
    "            \"content\": [\n",
    "                {\"type\": \"input_text\", \"text\": user_prompt},\n",
    "                {\"type\": \"input_image\", \"image_url\": f\"{image_url}\"},\n",
    "            ],\n",
    "        }\n",
    "    ],\n",
    ")\n",
    "\n",
    "printmd(response.output_text)"
   ]
  },
  {
   "cell_type": "markdown",
   "id": "ea4441e9-9f53-4597-9165-29a04e033d5a",
   "metadata": {},
   "source": [
    "## Customizing Model Responses"
   ]
  },
  {
   "cell_type": "markdown",
   "id": "d47757fe-1407-41d2-8149-24ee0457a1be",
   "metadata": {},
   "source": [
    "### System Instructions"
   ]
  },
  {
   "cell_type": "markdown",
   "id": "009736f2-b5b1-447d-814a-8afe7b9424b4",
   "metadata": {},
   "source": [
    "If you take a look at the response from our prompt `How do I administer CPR?`, it seems quite wordy. Also, if I were a professional in the field, I already know a number of these things.  We can simply create a set of system instructions to make the model respond more like we want."
   ]
  },
  {
   "cell_type": "code",
   "execution_count": 7,
   "id": "c897bace-ab17-4cb0-b6f5-c037f4676fbf",
   "metadata": {},
   "outputs": [
    {
     "data": {
      "text/markdown": [
       "Start by confirming unresponsiveness and calling 911. Place the patient on a firm surface, open the airway, and check for breathing and pulse (wart or carotid) for no more than 10 seconds. If absent or abnormal, begin CPR: **30 compressions** at a depth of about 2 inches for adults, at a rate of 100-120/min, allowing recoil. Follow with **2 rescue breaths**—pinch the nose, seal the mouth, and deliver a breath lasting 1 second, watching for chest rise. Continue until help arrives or the patient recovers."
      ],
      "text/plain": [
       "<IPython.core.display.Markdown object>"
      ]
     },
     "metadata": {},
     "output_type": "display_data"
    }
   ],
   "source": [
    "system_instructions = \"\"\"\n",
    "You are an expert emergency physician with decades of experience in CPR. The user is also a clinician.\n",
    "Keep responses under 100 words.\n",
    "\"\"\"\n",
    "user_prompt = \"How do I administer CPR?\"\n",
    "\n",
    "response = client.responses.create(\n",
    "    model=\"gpt-4.1-nano\",\n",
    "    instructions=system_instructions,\n",
    "    input=user_prompt,\n",
    ")\n",
    "\n",
    "printmd(response.output_text)"
   ]
  },
  {
   "cell_type": "markdown",
   "id": "0c29d6d1-be93-4d3b-bcc3-f1c85df82fc3",
   "metadata": {},
   "source": [
    "With just a few system instructions, I was able to completely change the model to perform in a much more precise, direct, and concise manner. This is known as **prompt engineering** and can be a very powerful tool for changing model performance. [This guide](https://www.promptingguide.ai/) is a fantastic resource to get started."
   ]
  },
  {
   "cell_type": "markdown",
   "id": "31ed9b5e-2e86-4c31-99f3-5f0960c3b0e4",
   "metadata": {},
   "source": [
    "### Temperature, Top P"
   ]
  },
  {
   "cell_type": "markdown",
   "id": "83d6bebd-6c30-4733-b1c8-a6eb86b17e72",
   "metadata": {},
   "source": [
    "Let's take a look at repeated responses from our model."
   ]
  },
  {
   "cell_type": "code",
   "execution_count": 8,
   "id": "7b64b926-2998-4290-a7f0-1b6e61e49a5b",
   "metadata": {},
   "outputs": [
    {
     "data": {
      "text/markdown": [
       "#### Response 1 Output:"
      ],
      "text/plain": [
       "<IPython.core.display.Markdown object>"
      ]
     },
     "metadata": {},
     "output_type": "display_data"
    },
    {
     "data": {
      "text/markdown": [
       "Ensure safety, then check responsiveness and breathing. Call emergency services. Initiate high-quality chest compressions at 100-120 per minute, pressing hard and fast (about 2 inches deep). Allow full chest recoil between compressions. Provide rescue breaths if trained: 30 compressions to 2 breaths. Continue until help arrives or the patient recovers. Use an AED as soon as available, following prompts."
      ],
      "text/plain": [
       "<IPython.core.display.Markdown object>"
      ]
     },
     "metadata": {},
     "output_type": "display_data"
    },
    {
     "name": "stdout",
     "output_type": "stream",
     "text": [
      "\n"
     ]
    },
    {
     "data": {
      "text/markdown": [
       "#### Response 2 Output:"
      ],
      "text/plain": [
       "<IPython.core.display.Markdown object>"
      ]
     },
     "metadata": {},
     "output_type": "display_data"
    },
    {
     "data": {
      "text/markdown": [
       "Check for responsiveness and breathing; if unresponsive and not breathing normally, call 911. Begin chest compressions at 2 inches depth at a rate of 100-120 per minute. Compress the center of the chest with straight arms, allowing full recoil. If trained and confident, give rescue breaths at 30:2 ratio (30 compressions, 2 breaths). Continue until advanced help arrives, the person shows signs of life, or you are exhausted. Use an AED as soon as available."
      ],
      "text/plain": [
       "<IPython.core.display.Markdown object>"
      ]
     },
     "metadata": {},
     "output_type": "display_data"
    },
    {
     "name": "stdout",
     "output_type": "stream",
     "text": [
      "\n"
     ]
    },
    {
     "data": {
      "text/markdown": [
       "#### Response 3 Output:"
      ],
      "text/plain": [
       "<IPython.core.display.Markdown object>"
      ]
     },
     "metadata": {},
     "output_type": "display_data"
    },
    {
     "data": {
      "text/markdown": [
       "Check responsiveness and breathing. Call for emergency help. Start high-quality chest compressions: place hands on the center of the chest, compress at 2 inches depth and 100-120/min rate. Allow full recoil. For adults, deliver 30 compressions then 2 rescue breaths (if trained in CPR). For rescue breaths, tilt the head, lift the chin, pinch the nose, and give two 1-second breaths. Continue cycles until help arrives or the patient recovers. Use an AED as soon as available."
      ],
      "text/plain": [
       "<IPython.core.display.Markdown object>"
      ]
     },
     "metadata": {},
     "output_type": "display_data"
    },
    {
     "name": "stdout",
     "output_type": "stream",
     "text": [
      "\n"
     ]
    }
   ],
   "source": [
    "system_instructions = \"\"\"\n",
    "You are an expert emergency physician with decades of experience in CPR. The user is also a clinician.\n",
    "Keep responses under 100 words.\n",
    "\"\"\"\n",
    "user_prompt = \"How do I administer CPR?\"\n",
    "\n",
    "for i in range(3):\n",
    "    response = client.responses.create(\n",
    "        model=\"gpt-4.1-nano\",\n",
    "        instructions=system_instructions,\n",
    "        input=user_prompt,\n",
    "    )\n",
    "\n",
    "    printmd(f\"#### Response {i+1} Output:\")\n",
    "    printmd(response.output_text)\n",
    "    print()"
   ]
  },
  {
   "cell_type": "markdown",
   "id": "29b4b6a2-b9b8-4e29-b486-5702e978e942",
   "metadata": {},
   "source": [
    "Notice that responses are a little bit different each time. That is because when the model chooses which token to use next, there is a degree of randomness involved. This can be modified by two parameters:\n",
    "\n",
    "* **Temperature**: This skews the next token distribution towards the most likely token (low) or flattens the distribution (high). The values range from 0 to 2. Low temperatures makes responses more deterministic and high makes responses more creative.\n",
    "* **Top P**: Only considers top tokens summing to cumulative probability $p$. Values range from 0 to 1. Low top P values focus only on most probable tokens while high focusses on all possible tokens.\n",
    "\n",
    "It is generally recommended to choose either temperature or top P when controlling randomness. For medical purposes, it's recommended to keep these values low. Let's see what happens when we do that."
   ]
  },
  {
   "cell_type": "code",
   "execution_count": 9,
   "id": "28c2390a-7d62-40c8-8056-e472e95a99d2",
   "metadata": {},
   "outputs": [
    {
     "data": {
      "text/markdown": [
       "#### Response 1 Output:"
      ],
      "text/plain": [
       "<IPython.core.display.Markdown object>"
      ]
     },
     "metadata": {},
     "output_type": "display_data"
    },
    {
     "data": {
      "text/markdown": [
       "Ensure scene safety, check responsiveness, and call for help. If unresponsive and no breathing or abnormal breathing, start CPR: \n",
       "\n",
       "1. **Chest Compressions:** Place hands on the center of the chest, compress at least 2 inches deep at 100-120 per minute.\n",
       "2. **Rescue Breaths:** After 30 compressions, give 2 breaths if trained and comfortable, each lasting 1 second, watching for chest rise.\n",
       "3. **Continue:** Repeat cycles of 30 compressions and 2 breaths until help arrives or the patient recovers. Use an AED as soon as available."
      ],
      "text/plain": [
       "<IPython.core.display.Markdown object>"
      ]
     },
     "metadata": {},
     "output_type": "display_data"
    },
    {
     "name": "stdout",
     "output_type": "stream",
     "text": [
      "\n"
     ]
    },
    {
     "data": {
      "text/markdown": [
       "#### Response 2 Output:"
      ],
      "text/plain": [
       "<IPython.core.display.Markdown object>"
      ]
     },
     "metadata": {},
     "output_type": "display_data"
    },
    {
     "data": {
      "text/markdown": [
       "Ensure scene safety, check responsiveness, and call for help. If unresponsive and no breathing or abnormal breathing, start CPR: \n",
       "\n",
       "1. **Chest Compressions:** Place hands on the center of the chest, compress at least 2 inches deep at 100-120 per minute.\n",
       "2. **Rescue Breaths:** After 30 compressions, give 2 breaths if trained and comfortable, each lasting 1 second, watching for chest rise.\n",
       "3. **Continue:** Repeat cycles of 30 compressions and 2 breaths until help arrives or the patient recovers. Use an AED as soon as available."
      ],
      "text/plain": [
       "<IPython.core.display.Markdown object>"
      ]
     },
     "metadata": {},
     "output_type": "display_data"
    },
    {
     "name": "stdout",
     "output_type": "stream",
     "text": [
      "\n"
     ]
    },
    {
     "data": {
      "text/markdown": [
       "#### Response 3 Output:"
      ],
      "text/plain": [
       "<IPython.core.display.Markdown object>"
      ]
     },
     "metadata": {},
     "output_type": "display_data"
    },
    {
     "data": {
      "text/markdown": [
       "Ensure scene safety, check responsiveness, and call for help. If unresponsive and no breathing or abnormal breathing, start CPR: \n",
       "\n",
       "1. **Chest Compressions:** Place hands on the center of the chest, compress at least 2 inches deep at 100-120 per minute.\n",
       "2. **Rescue Breaths:** After 30 compressions, give 2 breaths if trained and comfortable, each lasting 1 second, watching for chest rise.\n",
       "3. **Continue:** Repeat cycles of 30 compressions and 2 breaths until help arrives or the patient recovers. Use an AED as soon as available."
      ],
      "text/plain": [
       "<IPython.core.display.Markdown object>"
      ]
     },
     "metadata": {},
     "output_type": "display_data"
    },
    {
     "name": "stdout",
     "output_type": "stream",
     "text": [
      "\n"
     ]
    }
   ],
   "source": [
    "system_instructions = \"\"\"\n",
    "You are an expert emergency physician with decades of experience in CPR. The user is also a clinician.\n",
    "Keep responses under 100 words.\n",
    "\"\"\"\n",
    "user_prompt = \"How do I administer CPR?\"\n",
    "\n",
    "for i in range(3):\n",
    "    response = client.responses.create(\n",
    "        model=\"gpt-4.1-nano\",\n",
    "        instructions=system_instructions,\n",
    "        input=user_prompt,\n",
    "        temperature=0,\n",
    "    )\n",
    "\n",
    "    printmd(f\"#### Response {i+1} Output:\")\n",
    "    printmd(response.output_text)\n",
    "    print()"
   ]
  },
  {
   "cell_type": "markdown",
   "id": "76706b77-d7e2-4f39-8f2b-379f000a2d21",
   "metadata": {},
   "source": [
    "While not exactly the same (there is still some degree of randomness inherently within the model), for the most part responses are much more similar than they were before."
   ]
  },
  {
   "cell_type": "markdown",
   "id": "fdfb8090-9286-4007-8b75-1ac9e931e824",
   "metadata": {},
   "source": [
    "### Tool Calling"
   ]
  },
  {
   "cell_type": "markdown",
   "id": "fee7ae9f-fe49-4ab6-9053-ed4308554f96",
   "metadata": {},
   "source": [
    "Sometimes, you may have a specific function that you would like to call that performs a specific task that supplments the LLM's performance. This may involve querying an API and getting a reponse or running a deterministic model on data you recieve from the LLM. In these cases, you will want to use a tool call. Consider an example where you want to know the weather in San Antonio, TX. You would do the following."
   ]
  },
  {
   "cell_type": "code",
   "execution_count": 18,
   "id": "fb8ae2b3-dbfe-4ac0-890b-5949f3e2bec1",
   "metadata": {},
   "outputs": [
    {
     "name": "stdout",
     "output_type": "stream",
     "text": [
      "The current temperature in San Antonio, TX is approximately 89.3°F.\n"
     ]
    }
   ],
   "source": [
    "# Step 0: Create tool call function\n",
    "def get_weather(latitude, longitude):\n",
    "    \"\"\"This function get's the weather from the lattitude and longititude of the provided location\"\"\"\n",
    "    response = requests.get(f\"https://api.open-meteo.com/v1/forecast?latitude={latitude}&longitude={longitude}&current=temperature_2m,wind_speed_10m&hourly=temperature_2m,relative_humidity_2m,wind_speed_10m&temperature_unit=fahrenheit\")\n",
    "    data = response.json()\n",
    "    return data['current']['temperature_2m']\n",
    "\n",
    "# Step 1: Call model with get_weather tool defined\n",
    "tools = [{\n",
    "    \"type\": \"function\",\n",
    "    \"name\": \"get_weather\",\n",
    "    \"description\": \"Get current temperature for provided coordinates in Fahrenheit.\",\n",
    "    \"parameters\": {\n",
    "        \"type\": \"object\",\n",
    "        \"properties\": {\n",
    "            \"latitude\": {\"type\": \"number\"},\n",
    "            \"longitude\": {\"type\": \"number\"}\n",
    "        },\n",
    "        \"required\": [\"latitude\", \"longitude\"],\n",
    "        \"additionalProperties\": False\n",
    "    },\n",
    "    \"strict\": True\n",
    "}]\n",
    "input_messages = [{\"role\": \"user\", \"content\": \"What is the weather like in San Antonio, TX today?\"}]\n",
    "\n",
    "response = client.responses.create(\n",
    "    model=\"gpt-4.1-nano\",\n",
    "    input=input_messages,\n",
    "    tools=tools\n",
    ")\n",
    "\n",
    "# Step 2: Execute get_weather function\n",
    "tool_call = response.output[0]\n",
    "args = json.loads(tool_call.arguments)\n",
    "\n",
    "result = get_weather(args[\"latitude\"], args[\"longitude\"])\n",
    "\n",
    "# Step 3: Supply result and call model again\n",
    "input_messages.append(tool_call)                 # append model's function call message\n",
    "input_messages.append({                          # append result message\n",
    "    \"type\": \"function_call_output\",\n",
    "    \"call_id\": tool_call.call_id,\n",
    "    \"output\": str(result)\n",
    "})\n",
    "\n",
    "response_2 = client.responses.create(\n",
    "    model=\"gpt-4.1-nano\",\n",
    "    input=input_messages,\n",
    "    tools=tools,\n",
    ")\n",
    "print(response_2.output_text)"
   ]
  },
  {
   "cell_type": "markdown",
   "id": "6a53b01e-9971-430a-a40e-8cf919766eac",
   "metadata": {},
   "source": [
    "## Reasoning"
   ]
  },
  {
   "cell_type": "markdown",
   "id": "ba75cc80-1386-412d-98ec-cef4c2352a9c",
   "metadata": {},
   "source": [
    "Reasoning models have been built that are trained with reinforcment learning. These models have been shown to excel in harder problems such as STEM related fields. OpenAI has built the o-series of models for this task. Consider this example."
   ]
  },
  {
   "cell_type": "code",
   "execution_count": 19,
   "id": "fec4fb11-82a2-4744-b9a3-deebadcc3372",
   "metadata": {},
   "outputs": [
    {
     "data": {
      "text/markdown": [
       "Here are three recent lead‐compounds that look especially promising—and why they deserve serious follow-up:\n",
       "\n",
       "1. Teixobactin  \n",
       "  • Source & scaffold: an unusual non-ribosomal depsipeptide discovered from an “uncultured” soil bacterium (Eleftheria terrae) using the iChip technology.  \n",
       "  • Mechanism: binds lipid II and lipid III precursors in the Gram-positive cell wall pathway—so far no resistant mutants have been raised in the lab.  \n",
       "  • Why investigate?  \n",
       "    – Potent in vivo efficacy against MRSA, VRE and drug-resistant Mycobacteria  \n",
       "    – Novel scaffold for synthetic/semisynthetic optimization  \n",
       "    – Demonstrates that the uncultured majority of soil bacteria remain a rich reservoir of new chemistry  \n",
       "\n",
       "2. Darobactin  \n",
       "  • Source & scaffold: a ribosomally-synthesized and post-translationally modified heptapeptide (RiPP) from the nematode-symbiont Photorhabdus.  \n",
       "  • Mechanism: binds BamA, the essential outer-membrane protein-assembly factor in Gram-negatives, blocking membrane biogenesis.  \n",
       "  • Why investigate?  \n",
       "    – Potent, narrow-nanomolar activity vs. E. coli, Klebsiella, Pseudomonas, Acinetobacter  \n",
       "    – Low cytotoxicity, good pharmacokinetics and in vivo protection in mouse septicemia models  \n",
       "    – Novel outer-membrane target with no cross-resistance to existing Gram-negative drugs  \n",
       "\n",
       "3. Pseudouridimycin (PUM)  \n",
       "  • Source & scaffold: a nucleoside-analog natural product from Streptomyces spp.  \n",
       "  • Mechanism: mimics UTP and binds the active site of bacterial RNA polymerase—completely distinct from rifamycins or lipiarmycins.  \n",
       "  • Why investigate?  \n",
       "    – Broad-spectrum Gram-positive activity (and potential for Gram-negative analogs with improved uptake)  \n",
       "    – No cross-resistance with existing RNAP inhibitors  \n",
       "    – Chemotype readily amenable to medicinal-chemistry optimization of potency, spectrum and PK  \n",
       "\n",
       "Taken together, these three—each from a very different source family and each hitting a new essential target—represent high-value starting points for:  \n",
       "  • Exploring new microbial resources (iChip, symbionts, under-studied Streptomyces)  \n",
       "  • Uncovering novel mechanisms of action that sidestep existing resistance pathways  \n",
       "  • Developing synthetic/semisynthetic analogs with optimized drug-like properties"
      ],
      "text/plain": [
       "<IPython.core.display.Markdown object>"
      ]
     },
     "metadata": {},
     "output_type": "display_data"
    }
   ],
   "source": [
    "prompt = \"\"\"\n",
    "What are three compounds we should consider investigating to \n",
    "advance research into new antibiotics? Why should we consider \n",
    "them?\n",
    "\"\"\"\n",
    "\n",
    "response = client.responses.create(\n",
    "    model=\"o4-mini\",\n",
    "    reasoning={\"effort\": \"high\"},\n",
    "    input=[\n",
    "        {\n",
    "            \"role\": \"user\", \n",
    "            \"content\": prompt\n",
    "        }\n",
    "    ]\n",
    ")\n",
    "\n",
    "printmd(response.output_text)"
   ]
  },
  {
   "cell_type": "markdown",
   "id": "5f32094d-23e4-4fc1-9656-678dc1fdfa11",
   "metadata": {},
   "source": [
    "## Conclusion"
   ]
  },
  {
   "cell_type": "markdown",
   "id": "17ed5285-2e43-4acf-bb91-23b3492eccbb",
   "metadata": {},
   "source": [
    "I hope you enjoyed this brief introduction to some of the capabilities of these AI Models and how they can be used for biomedical decision making. More information about advanced use case can be found in [OpenAI's documentation](https://platform.openai.com/docs/overview) or in the documentation website of your desired model. If you want to learn how these models work from an architecture perspective, [take a look at this tutorial](https://jalammar.github.io/illustrated-transformer/)."
   ]
  },
  {
   "cell_type": "code",
   "execution_count": null,
   "id": "2881c934-4f1b-4fb6-bf47-ba73613d63b4",
   "metadata": {},
   "outputs": [],
   "source": []
  }
 ],
 "metadata": {
  "kernelspec": {
   "display_name": "Python 3 (ipykernel)",
   "language": "python",
   "name": "python3"
  },
  "language_info": {
   "codemirror_mode": {
    "name": "ipython",
    "version": 3
   },
   "file_extension": ".py",
   "mimetype": "text/x-python",
   "name": "python",
   "nbconvert_exporter": "python",
   "pygments_lexer": "ipython3",
   "version": "3.13.2"
  }
 },
 "nbformat": 4,
 "nbformat_minor": 5
}
